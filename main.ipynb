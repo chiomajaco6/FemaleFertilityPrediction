{
 "cells": [
  {
   "attachments": {},
   "cell_type": "markdown",
   "metadata": {},
   "source": [
    "# Female Pregnancy Outcome"
   ]
  },
  {
   "cell_type": "code",
   "execution_count": 26,
   "metadata": {},
   "outputs": [],
   "source": [
    "import pandas as pd\n",
    "import seaborn as sns\n",
    "from sklearn.model_selection import train_test_split\n",
    "from sklearn.tree import DecisionTreeClassifier\n",
    "from sklearn.metrics import accuracy_score, confusion_matrix, classification_report"
   ]
  },
  {
   "cell_type": "code",
   "execution_count": 27,
   "metadata": {},
   "outputs": [
    {
     "name": "stderr",
     "output_type": "stream",
     "text": [
      "c:\\Users\\USER\\AppData\\Local\\Programs\\Python\\Python39\\lib\\site-packages\\IPython\\core\\interactiveshell.py:3433: DtypeWarning: Columns (186,187) have mixed types.Specify dtype option on import or set low_memory=False.\n",
      "  exec(code_obj, self.user_global_ns, self.user_ns)\n"
     ]
    },
    {
     "data": {
      "text/html": [
       "<div>\n",
       "<style scoped>\n",
       "    .dataframe tbody tr th:only-of-type {\n",
       "        vertical-align: middle;\n",
       "    }\n",
       "\n",
       "    .dataframe tbody tr th {\n",
       "        vertical-align: top;\n",
       "    }\n",
       "\n",
       "    .dataframe thead th {\n",
       "        text-align: right;\n",
       "    }\n",
       "</style>\n",
       "<table border=\"1\" class=\"dataframe\">\n",
       "  <thead>\n",
       "    <tr style=\"text-align: right;\">\n",
       "      <th></th>\n",
       "      <th>twps_id</th>\n",
       "      <th>client_twps_id</th>\n",
       "      <th>w_id</th>\n",
       "      <th>serial_no</th>\n",
       "      <th>house_no</th>\n",
       "      <th>house_hold_no</th>\n",
       "      <th>state</th>\n",
       "      <th>district</th>\n",
       "      <th>rural</th>\n",
       "      <th>stratum_code</th>\n",
       "      <th>...</th>\n",
       "      <th>FIDH</th>\n",
       "      <th>FIDx</th>\n",
       "      <th>AS</th>\n",
       "      <th>AS_Binned</th>\n",
       "      <th>IsNewRecord</th>\n",
       "      <th>RecordUpdatedCount</th>\n",
       "      <th>RecordStatus</th>\n",
       "      <th>Schedule_Id</th>\n",
       "      <th>Year</th>\n",
       "      <th>Id</th>\n",
       "    </tr>\n",
       "  </thead>\n",
       "  <tbody>\n",
       "    <tr>\n",
       "      <th>0</th>\n",
       "      <td>49.0</td>\n",
       "      <td>38680.0</td>\n",
       "      <td>282.0</td>\n",
       "      <td>6</td>\n",
       "      <td>39</td>\n",
       "      <td>1</td>\n",
       "      <td>CHHATTISGARH</td>\n",
       "      <td>KORIYA</td>\n",
       "      <td>Rural</td>\n",
       "      <td>200&lt;population&lt;2000</td>\n",
       "      <td>...</td>\n",
       "      <td>220101100390106</td>\n",
       "      <td>3.452201e+09</td>\n",
       "      <td>NaN</td>\n",
       "      <td>Middle</td>\n",
       "      <td>NaN</td>\n",
       "      <td>NaN</td>\n",
       "      <td>NaN</td>\n",
       "      <td>3</td>\n",
       "      <td>Second Updation Round</td>\n",
       "      <td>3030181</td>\n",
       "    </tr>\n",
       "    <tr>\n",
       "      <th>1</th>\n",
       "      <td>NaN</td>\n",
       "      <td>NaN</td>\n",
       "      <td>NaN</td>\n",
       "      <td>2</td>\n",
       "      <td>39</td>\n",
       "      <td>3</td>\n",
       "      <td>CHHATTISGARH</td>\n",
       "      <td>KORIYA</td>\n",
       "      <td>Rural</td>\n",
       "      <td>200&lt;population&lt;2000</td>\n",
       "      <td>...</td>\n",
       "      <td>220101100390302</td>\n",
       "      <td>NaN</td>\n",
       "      <td>NaN</td>\n",
       "      <td>NaN</td>\n",
       "      <td>1.0</td>\n",
       "      <td>1.0</td>\n",
       "      <td>2.0</td>\n",
       "      <td>3</td>\n",
       "      <td>Second Updation Round</td>\n",
       "      <td>3030182</td>\n",
       "    </tr>\n",
       "    <tr>\n",
       "      <th>2</th>\n",
       "      <td>50.0</td>\n",
       "      <td>38681.0</td>\n",
       "      <td>283.0</td>\n",
       "      <td>4</td>\n",
       "      <td>40</td>\n",
       "      <td>1</td>\n",
       "      <td>CHHATTISGARH</td>\n",
       "      <td>KORIYA</td>\n",
       "      <td>Rural</td>\n",
       "      <td>200&lt;population&lt;2000</td>\n",
       "      <td>...</td>\n",
       "      <td>220101100400104</td>\n",
       "      <td>3.462201e+09</td>\n",
       "      <td>NaN</td>\n",
       "      <td>Lowest</td>\n",
       "      <td>NaN</td>\n",
       "      <td>NaN</td>\n",
       "      <td>NaN</td>\n",
       "      <td>3</td>\n",
       "      <td>Second Updation Round</td>\n",
       "      <td>3030190</td>\n",
       "    </tr>\n",
       "    <tr>\n",
       "      <th>3</th>\n",
       "      <td>NaN</td>\n",
       "      <td>NaN</td>\n",
       "      <td>NaN</td>\n",
       "      <td>2</td>\n",
       "      <td>40</td>\n",
       "      <td>3</td>\n",
       "      <td>CHHATTISGARH</td>\n",
       "      <td>KORIYA</td>\n",
       "      <td>Rural</td>\n",
       "      <td>200&lt;population&lt;2000</td>\n",
       "      <td>...</td>\n",
       "      <td>220101100400302</td>\n",
       "      <td>NaN</td>\n",
       "      <td>NaN</td>\n",
       "      <td>NaN</td>\n",
       "      <td>1.0</td>\n",
       "      <td>1.0</td>\n",
       "      <td>2.0</td>\n",
       "      <td>3</td>\n",
       "      <td>Second Updation Round</td>\n",
       "      <td>3030191</td>\n",
       "    </tr>\n",
       "    <tr>\n",
       "      <th>4</th>\n",
       "      <td>NaN</td>\n",
       "      <td>NaN</td>\n",
       "      <td>NaN</td>\n",
       "      <td>2</td>\n",
       "      <td>41</td>\n",
       "      <td>2</td>\n",
       "      <td>CHHATTISGARH</td>\n",
       "      <td>KORIYA</td>\n",
       "      <td>Rural</td>\n",
       "      <td>200&lt;population&lt;2000</td>\n",
       "      <td>...</td>\n",
       "      <td>220101100410202</td>\n",
       "      <td>NaN</td>\n",
       "      <td>NaN</td>\n",
       "      <td>NaN</td>\n",
       "      <td>NaN</td>\n",
       "      <td>1.0</td>\n",
       "      <td>2.0</td>\n",
       "      <td>3</td>\n",
       "      <td>Second Updation Round</td>\n",
       "      <td>3030192</td>\n",
       "    </tr>\n",
       "  </tbody>\n",
       "</table>\n",
       "<p>5 rows × 350 columns</p>\n",
       "</div>"
      ],
      "text/plain": [
       "   twps_id  client_twps_id   w_id  serial_no  house_no  house_hold_no  \\\n",
       "0     49.0         38680.0  282.0          6        39              1   \n",
       "1      NaN             NaN    NaN          2        39              3   \n",
       "2     50.0         38681.0  283.0          4        40              1   \n",
       "3      NaN             NaN    NaN          2        40              3   \n",
       "4      NaN             NaN    NaN          2        41              2   \n",
       "\n",
       "          state district  rural         stratum_code  ...             FIDH  \\\n",
       "0  CHHATTISGARH   KORIYA  Rural  200<population<2000  ...  220101100390106   \n",
       "1  CHHATTISGARH   KORIYA  Rural  200<population<2000  ...  220101100390302   \n",
       "2  CHHATTISGARH   KORIYA  Rural  200<population<2000  ...  220101100400104   \n",
       "3  CHHATTISGARH   KORIYA  Rural  200<population<2000  ...  220101100400302   \n",
       "4  CHHATTISGARH   KORIYA  Rural  200<population<2000  ...  220101100410202   \n",
       "\n",
       "           FIDx  AS AS_Binned  IsNewRecord RecordUpdatedCount RecordStatus  \\\n",
       "0  3.452201e+09 NaN    Middle          NaN                NaN          NaN   \n",
       "1           NaN NaN       NaN          1.0                1.0          2.0   \n",
       "2  3.462201e+09 NaN    Lowest          NaN                NaN          NaN   \n",
       "3           NaN NaN       NaN          1.0                1.0          2.0   \n",
       "4           NaN NaN       NaN          NaN                1.0          2.0   \n",
       "\n",
       "   Schedule_Id                   Year       Id  \n",
       "0            3  Second Updation Round  3030181  \n",
       "1            3  Second Updation Round  3030182  \n",
       "2            3  Second Updation Round  3030190  \n",
       "3            3  Second Updation Round  3030191  \n",
       "4            3  Second Updation Round  3030192  \n",
       "\n",
       "[5 rows x 350 columns]"
      ]
     },
     "execution_count": 27,
     "metadata": {},
     "output_type": "execute_result"
    }
   ],
   "source": [
    "df = pd.read_csv(open(\"./datasets/ahs-wps-chhattisgarh-koriya.csv\"))\n",
    "\n",
    "df.head(5)"
   ]
  },
  {
   "attachments": {},
   "cell_type": "markdown",
   "metadata": {},
   "source": [
    "## Dimensionality Reduction"
   ]
  },
  {
   "cell_type": "code",
   "execution_count": 28,
   "metadata": {},
   "outputs": [
    {
     "data": {
      "text/html": [
       "<div>\n",
       "<style scoped>\n",
       "    .dataframe tbody tr th:only-of-type {\n",
       "        vertical-align: middle;\n",
       "    }\n",
       "\n",
       "    .dataframe tbody tr th {\n",
       "        vertical-align: top;\n",
       "    }\n",
       "\n",
       "    .dataframe thead th {\n",
       "        text-align: right;\n",
       "    }\n",
       "</style>\n",
       "<table border=\"1\" class=\"dataframe\">\n",
       "  <thead>\n",
       "    <tr style=\"text-align: right;\">\n",
       "      <th></th>\n",
       "      <th>age</th>\n",
       "      <th>marital_status</th>\n",
       "      <th>type_of_delivery</th>\n",
       "      <th>check_up_with_48_hours_of_del</th>\n",
       "      <th>out_come_of_preg</th>\n",
       "    </tr>\n",
       "  </thead>\n",
       "  <tbody>\n",
       "    <tr>\n",
       "      <th>0</th>\n",
       "      <td>19</td>\n",
       "      <td>Married and Gauna performed</td>\n",
       "      <td>Normal</td>\n",
       "      <td>No</td>\n",
       "      <td>Live-Birth</td>\n",
       "    </tr>\n",
       "    <tr>\n",
       "      <th>1</th>\n",
       "      <td>21</td>\n",
       "      <td>Married and Gauna performed</td>\n",
       "      <td>Normal</td>\n",
       "      <td>Yes</td>\n",
       "      <td>Live-Birth</td>\n",
       "    </tr>\n",
       "    <tr>\n",
       "      <th>2</th>\n",
       "      <td>28</td>\n",
       "      <td>Married and Gauna performed</td>\n",
       "      <td>Normal</td>\n",
       "      <td>No</td>\n",
       "      <td>Live-Birth</td>\n",
       "    </tr>\n",
       "    <tr>\n",
       "      <th>3</th>\n",
       "      <td>30</td>\n",
       "      <td>Married and Gauna performed</td>\n",
       "      <td>Normal</td>\n",
       "      <td>Yes</td>\n",
       "      <td>Live-Birth</td>\n",
       "    </tr>\n",
       "    <tr>\n",
       "      <th>4</th>\n",
       "      <td>29</td>\n",
       "      <td>Married and Gauna performed</td>\n",
       "      <td>Normal</td>\n",
       "      <td>No</td>\n",
       "      <td>Live-Birth</td>\n",
       "    </tr>\n",
       "    <tr>\n",
       "      <th>...</th>\n",
       "      <td>...</td>\n",
       "      <td>...</td>\n",
       "      <td>...</td>\n",
       "      <td>...</td>\n",
       "      <td>...</td>\n",
       "    </tr>\n",
       "    <tr>\n",
       "      <th>4434</th>\n",
       "      <td>27</td>\n",
       "      <td>Married and Gauna performed</td>\n",
       "      <td>Normal</td>\n",
       "      <td>Yes</td>\n",
       "      <td>Live-Birth</td>\n",
       "    </tr>\n",
       "    <tr>\n",
       "      <th>4435</th>\n",
       "      <td>25</td>\n",
       "      <td>Married and Gauna performed</td>\n",
       "      <td>Normal</td>\n",
       "      <td>No</td>\n",
       "      <td>Live-Birth</td>\n",
       "    </tr>\n",
       "    <tr>\n",
       "      <th>4436</th>\n",
       "      <td>27</td>\n",
       "      <td>Married and Gauna performed</td>\n",
       "      <td>Normal</td>\n",
       "      <td>Yes</td>\n",
       "      <td>Live-Birth</td>\n",
       "    </tr>\n",
       "    <tr>\n",
       "      <th>4437</th>\n",
       "      <td>26</td>\n",
       "      <td>Married and Gauna performed</td>\n",
       "      <td>Normal</td>\n",
       "      <td>Yes</td>\n",
       "      <td>Live-Birth</td>\n",
       "    </tr>\n",
       "    <tr>\n",
       "      <th>4438</th>\n",
       "      <td>32</td>\n",
       "      <td>Married and Gauna performed</td>\n",
       "      <td>Normal</td>\n",
       "      <td>Yes</td>\n",
       "      <td>Live-Birth</td>\n",
       "    </tr>\n",
       "  </tbody>\n",
       "</table>\n",
       "<p>4331 rows × 5 columns</p>\n",
       "</div>"
      ],
      "text/plain": [
       "      age               marital_status type_of_delivery  \\\n",
       "0      19  Married and Gauna performed           Normal   \n",
       "1      21  Married and Gauna performed           Normal   \n",
       "2      28  Married and Gauna performed           Normal   \n",
       "3      30  Married and Gauna performed           Normal   \n",
       "4      29  Married and Gauna performed           Normal   \n",
       "...   ...                          ...              ...   \n",
       "4434   27  Married and Gauna performed           Normal   \n",
       "4435   25  Married and Gauna performed           Normal   \n",
       "4436   27  Married and Gauna performed           Normal   \n",
       "4437   26  Married and Gauna performed           Normal   \n",
       "4438   32  Married and Gauna performed           Normal   \n",
       "\n",
       "     check_up_with_48_hours_of_del out_come_of_preg  \n",
       "0                               No       Live-Birth  \n",
       "1                              Yes       Live-Birth  \n",
       "2                               No       Live-Birth  \n",
       "3                              Yes       Live-Birth  \n",
       "4                               No       Live-Birth  \n",
       "...                            ...              ...  \n",
       "4434                           Yes       Live-Birth  \n",
       "4435                            No       Live-Birth  \n",
       "4436                           Yes       Live-Birth  \n",
       "4437                           Yes       Live-Birth  \n",
       "4438                           Yes       Live-Birth  \n",
       "\n",
       "[4331 rows x 5 columns]"
      ]
     },
     "execution_count": 28,
     "metadata": {},
     "output_type": "execute_result"
    }
   ],
   "source": [
    "# Selecting columns relevant to prediction\n",
    "data = df.iloc[:, [12, 13, 52, 54, 16]]\n",
    "\n",
    "# drop \n",
    "data.dropna()"
   ]
  },
  {
   "attachments": {},
   "cell_type": "markdown",
   "metadata": {},
   "source": [
    "Based on the dataset, the following variables are relevant to predicting the outcome of pregnancy in a woman:\n",
    "\n",
    "- Age (variable 13, also listed as Age in variable 14)\n",
    "- Marital status (variable 14, also listed as Marital Status)\n",
    "- Pregnancy number (variable 15, also listed as Pregnancy No.)\n",
    "- Pregnancy outcome (variable 17, also listed as Outcome of Pregnancy)\n",
    "- ANC status (variable 21, also listed as Did you receive any ANC?)\n",
    "- Ultrasound status (variable 22, also listed as Did you go for ultrasound before this abortion?)\n",
    "- Type of delivery (variable 53, also listed as Was the delivery normal, caesarean or assisted?)\n",
    "- Check-up within 48 hours of delivery (variable 55, also listed as Did you have any check-up within 48 hours of delivery?)\n",
    "\n",
    "It is worth noting that other variables such as abortion-related variables, previous/current birth intervals, and ANC-related variables could potentially have indirect impacts on pregnancy outcome, but the direct relevance of those variables to predicting pregnancy outcome is less clear. "
   ]
  },
  {
   "attachments": {},
   "cell_type": "markdown",
   "metadata": {},
   "source": [
    "## Feature Sampling"
   ]
  },
  {
   "cell_type": "code",
   "execution_count": 29,
   "metadata": {},
   "outputs": [],
   "source": [
    "# Split the data into features and target\n",
    "features = data[['age', 'marital_status', 'type_of_delivery', 'check_up_with_48_hours_of_del']]\n",
    "target = data['out_come_of_preg']"
   ]
  },
  {
   "attachments": {},
   "cell_type": "markdown",
   "metadata": {},
   "source": [
    "Two dataframes are created, `features` and `target` from the input dataset. The `features` dataframe contains columns `age`, `marital_status`, `type_of_delivery`, and `check_up_with_48_hours_of_del`, while the target dataframe contains the column `out_come_of_preg`. This separation of data allows for further analysis and modelling of the data."
   ]
  },
  {
   "attachments": {},
   "cell_type": "markdown",
   "metadata": {},
   "source": [
    "## Data Encoding"
   ]
  },
  {
   "cell_type": "code",
   "execution_count": 30,
   "metadata": {},
   "outputs": [],
   "source": [
    "# Preprocess the data\n",
    "# Encode categorical features\n",
    "features = pd.get_dummies(features, columns=['marital_status', 'type_of_delivery', 'check_up_with_48_hours_of_del'])"
   ]
  },
  {
   "attachments": {},
   "cell_type": "markdown",
   "metadata": {},
   "source": [
    "This aims to convert categorical variables into a numerical format that can be used as input for the machine learning algorithm. The function takes the dataframe `features` as input and a list of columns ['marital_status', 'type_of_delivery', 'check_up_with_48_hours_of_del'] that contain categorical variables to be converted.\n"
   ]
  },
  {
   "attachments": {},
   "cell_type": "markdown",
   "metadata": {},
   "source": [
    "## Feature Splitting"
   ]
  },
  {
   "cell_type": "code",
   "execution_count": 31,
   "metadata": {},
   "outputs": [],
   "source": [
    "# Split the data into training and testing sets\n",
    "X_train, X_test, y_train, y_test = train_test_split(features, target, test_size=0.2, random_state=42)"
   ]
  },
  {
   "attachments": {},
   "cell_type": "markdown",
   "metadata": {},
   "source": [
    "## Modelling"
   ]
  },
  {
   "cell_type": "code",
   "execution_count": 32,
   "metadata": {},
   "outputs": [
    {
     "data": {
      "text/html": [
       "<style>#sk-container-id-2 {color: black;background-color: white;}#sk-container-id-2 pre{padding: 0;}#sk-container-id-2 div.sk-toggleable {background-color: white;}#sk-container-id-2 label.sk-toggleable__label {cursor: pointer;display: block;width: 100%;margin-bottom: 0;padding: 0.3em;box-sizing: border-box;text-align: center;}#sk-container-id-2 label.sk-toggleable__label-arrow:before {content: \"▸\";float: left;margin-right: 0.25em;color: #696969;}#sk-container-id-2 label.sk-toggleable__label-arrow:hover:before {color: black;}#sk-container-id-2 div.sk-estimator:hover label.sk-toggleable__label-arrow:before {color: black;}#sk-container-id-2 div.sk-toggleable__content {max-height: 0;max-width: 0;overflow: hidden;text-align: left;background-color: #f0f8ff;}#sk-container-id-2 div.sk-toggleable__content pre {margin: 0.2em;color: black;border-radius: 0.25em;background-color: #f0f8ff;}#sk-container-id-2 input.sk-toggleable__control:checked~div.sk-toggleable__content {max-height: 200px;max-width: 100%;overflow: auto;}#sk-container-id-2 input.sk-toggleable__control:checked~label.sk-toggleable__label-arrow:before {content: \"▾\";}#sk-container-id-2 div.sk-estimator input.sk-toggleable__control:checked~label.sk-toggleable__label {background-color: #d4ebff;}#sk-container-id-2 div.sk-label input.sk-toggleable__control:checked~label.sk-toggleable__label {background-color: #d4ebff;}#sk-container-id-2 input.sk-hidden--visually {border: 0;clip: rect(1px 1px 1px 1px);clip: rect(1px, 1px, 1px, 1px);height: 1px;margin: -1px;overflow: hidden;padding: 0;position: absolute;width: 1px;}#sk-container-id-2 div.sk-estimator {font-family: monospace;background-color: #f0f8ff;border: 1px dotted black;border-radius: 0.25em;box-sizing: border-box;margin-bottom: 0.5em;}#sk-container-id-2 div.sk-estimator:hover {background-color: #d4ebff;}#sk-container-id-2 div.sk-parallel-item::after {content: \"\";width: 100%;border-bottom: 1px solid gray;flex-grow: 1;}#sk-container-id-2 div.sk-label:hover label.sk-toggleable__label {background-color: #d4ebff;}#sk-container-id-2 div.sk-serial::before {content: \"\";position: absolute;border-left: 1px solid gray;box-sizing: border-box;top: 0;bottom: 0;left: 50%;z-index: 0;}#sk-container-id-2 div.sk-serial {display: flex;flex-direction: column;align-items: center;background-color: white;padding-right: 0.2em;padding-left: 0.2em;position: relative;}#sk-container-id-2 div.sk-item {position: relative;z-index: 1;}#sk-container-id-2 div.sk-parallel {display: flex;align-items: stretch;justify-content: center;background-color: white;position: relative;}#sk-container-id-2 div.sk-item::before, #sk-container-id-2 div.sk-parallel-item::before {content: \"\";position: absolute;border-left: 1px solid gray;box-sizing: border-box;top: 0;bottom: 0;left: 50%;z-index: -1;}#sk-container-id-2 div.sk-parallel-item {display: flex;flex-direction: column;z-index: 1;position: relative;background-color: white;}#sk-container-id-2 div.sk-parallel-item:first-child::after {align-self: flex-end;width: 50%;}#sk-container-id-2 div.sk-parallel-item:last-child::after {align-self: flex-start;width: 50%;}#sk-container-id-2 div.sk-parallel-item:only-child::after {width: 0;}#sk-container-id-2 div.sk-dashed-wrapped {border: 1px dashed gray;margin: 0 0.4em 0.5em 0.4em;box-sizing: border-box;padding-bottom: 0.4em;background-color: white;}#sk-container-id-2 div.sk-label label {font-family: monospace;font-weight: bold;display: inline-block;line-height: 1.2em;}#sk-container-id-2 div.sk-label-container {text-align: center;}#sk-container-id-2 div.sk-container {/* jupyter's `normalize.less` sets `[hidden] { display: none; }` but bootstrap.min.css set `[hidden] { display: none !important; }` so we also need the `!important` here to be able to override the default hidden behavior on the sphinx rendered scikit-learn.org. See: https://github.com/scikit-learn/scikit-learn/issues/21755 */display: inline-block !important;position: relative;}#sk-container-id-2 div.sk-text-repr-fallback {display: none;}</style><div id=\"sk-container-id-2\" class=\"sk-top-container\"><div class=\"sk-text-repr-fallback\"><pre>DecisionTreeClassifier()</pre><b>In a Jupyter environment, please rerun this cell to show the HTML representation or trust the notebook. <br />On GitHub, the HTML representation is unable to render, please try loading this page with nbviewer.org.</b></div><div class=\"sk-container\" hidden><div class=\"sk-item\"><div class=\"sk-estimator sk-toggleable\"><input class=\"sk-toggleable__control sk-hidden--visually\" id=\"sk-estimator-id-2\" type=\"checkbox\" checked><label for=\"sk-estimator-id-2\" class=\"sk-toggleable__label sk-toggleable__label-arrow\">DecisionTreeClassifier</label><div class=\"sk-toggleable__content\"><pre>DecisionTreeClassifier()</pre></div></div></div></div></div>"
      ],
      "text/plain": [
       "DecisionTreeClassifier()"
      ]
     },
     "execution_count": 32,
     "metadata": {},
     "output_type": "execute_result"
    }
   ],
   "source": [
    "# Train the model\n",
    "model = DecisionTreeClassifier()\n",
    "model.fit(X_train, y_train)"
   ]
  },
  {
   "attachments": {},
   "cell_type": "markdown",
   "metadata": {},
   "source": [
    "Here, a machine learning model is trained using the decision tree algorithm to classify the outcome of pregnancy based on features such as age, marital status, type of delivery, and check-up within 48 hours of delivery. The decision tree algorithm is used because it can handle both numerical and categorical data and is capable of handling non-linear relationships between features.\n",
    "\n",
    "The dataset contains both numerical and categorical features, making it necessary to use an algorithm that can handle both. The decision tree algorithm is a good choice because it can split the data based on categorical features and use numerical features to create a hierarchy of decision rules that can classify the outcome of pregnancy."
   ]
  },
  {
   "cell_type": "code",
   "execution_count": 33,
   "metadata": {},
   "outputs": [
    {
     "name": "stdout",
     "output_type": "stream",
     "text": [
      "Accuracy: 0.9898648648648649\n"
     ]
    },
    {
     "name": "stderr",
     "output_type": "stream",
     "text": [
      "c:\\Users\\USER\\AppData\\Local\\Programs\\Python\\Python39\\lib\\site-packages\\sklearn\\metrics\\_classification.py:1344: UndefinedMetricWarning: Precision and F-score are ill-defined and being set to 0.0 in labels with no predicted samples. Use `zero_division` parameter to control this behavior.\n",
      "  _warn_prf(average, modifier, msg_start, len(result))\n",
      "c:\\Users\\USER\\AppData\\Local\\Programs\\Python\\Python39\\lib\\site-packages\\sklearn\\metrics\\_classification.py:1344: UndefinedMetricWarning: Precision and F-score are ill-defined and being set to 0.0 in labels with no predicted samples. Use `zero_division` parameter to control this behavior.\n",
      "  _warn_prf(average, modifier, msg_start, len(result))\n",
      "c:\\Users\\USER\\AppData\\Local\\Programs\\Python\\Python39\\lib\\site-packages\\sklearn\\metrics\\_classification.py:1344: UndefinedMetricWarning: Precision and F-score are ill-defined and being set to 0.0 in labels with no predicted samples. Use `zero_division` parameter to control this behavior.\n",
      "  _warn_prf(average, modifier, msg_start, len(result))\n"
     ]
    },
    {
     "name": "stdout",
     "output_type": "stream",
     "text": [
      "Classification Report:\n",
      "                      precision    recall  f1-score   support\n",
      "\n",
      "    Induced Abortion       0.00      0.00      0.00         4\n",
      "          Live-Birth       1.00      1.00      1.00       864\n",
      "Spontaneous Abortion       0.76      0.94      0.84        17\n",
      "         Still Birth       0.00      0.00      0.00         3\n",
      "\n",
      "            accuracy                           0.99       888\n",
      "           macro avg       0.44      0.49      0.46       888\n",
      "        weighted avg       0.99      0.99      0.99       888\n",
      "\n"
     ]
    },
    {
     "data": {
      "image/png": "[encoded data removed]",
      "text/plain": [
       "<Figure size 640x480 with 2 Axes>"
      ]
     },
     "metadata": {},
     "output_type": "display_data"
    }
   ],
   "source": [
    "# Evaluate the model\n",
    "y_pred = model.predict(X_test)\n",
    "\n",
    "accuracy = accuracy_score(y_test, y_pred)\n",
    "print(\"Accuracy:\", accuracy)\n",
    "\n",
    "# Confusion matrix\n",
    "cm = confusion_matrix(y_test, y_pred)\n",
    "# Plot confusion matrix as heatmap\n",
    "sns.heatmap(cm, annot=True, fmt='g')\n",
    "\n",
    "# Classification report\n",
    "cr = classification_report(y_test, y_pred)\n",
    "print(\"Classification Report:\")\n",
    "print(cr)\n"
   ]
  },
  {
   "attachments": {},
   "cell_type": "markdown",
   "metadata": {},
   "source": [
    "This piece evaluates the performance of the Decision Tree model by using the test set. It predicts the target variable using the trained model and compares the predicted values with the actual target values. The accuracy of the model is then calculated and printed, which indicates the percentage of correctly predicted outcomes. In this case, the accuracy is 98%, which is of high level of accuracy.\n",
    "\n",
    "To provide more detail about the model's performance, a confusion matrix is generated and plotted as a heatmap. The confusion matrix provides information about the true positives, false positives, true negatives, and false negatives, allowing for a deeper understanding of the model's predictive power. Additionally, a classification report is printed, which provides information about precision, recall, and f1-score for each class in the target variable. Overall, this code provides a thorough evaluation of the machine learning model's performance on the test set."
   ]
  }
 ],
 "metadata": {
  "kernelspec": {
   "display_name": "Python 3",
   "language": "python",
   "name": "python3"
  },
  "language_info": {
   "codemirror_mode": {
    "name": "ipython",
    "version": 3
   },
   "file_extension": ".py",
   "mimetype": "text/x-python",
   "name": "python",
   "nbconvert_exporter": "python",
   "pygments_lexer": "ipython3",
   "version": "3.9.4"
  },
  "orig_nbformat": 4
 },
 "nbformat": 4,
 "nbformat_minor": 2
}
